{
 "cells": [
  {
   "cell_type": "code",
   "execution_count": 12,
   "metadata": {},
   "outputs": [
    {
     "data": {
      "text/plain": [
       "True"
      ]
     },
     "execution_count": 12,
     "metadata": {},
     "output_type": "execute_result"
    }
   ],
   "source": [
    "import os\n",
    "import datetime\n",
    "from sec_api import QueryApi, RenderApi\n",
    "from llama_index import (\n",
    "    download_loader,\n",
    "    ServiceContext,\n",
    "    GPTVectorStoreIndex,\n",
    "    SimpleDirectoryReader,\n",
    "    StringIterableReader,\n",
    "    GPTTreeIndex,\n",
    "    StorageContext,\n",
    "    load_index_from_storage,\n",
    ")\n",
    "from pathlib import Path\n",
    "from dotenv import load_dotenv\n",
    "\n",
    "load_dotenv()"
   ]
  },
  {
   "cell_type": "code",
   "execution_count": 16,
   "metadata": {},
   "outputs": [
    {
     "name": "stdout",
     "output_type": "stream",
     "text": [
      "ticker, report_type, year =  AAPL 10-K 2022\n"
     ]
    }
   ],
   "source": [
    "\n",
    "\n",
    "report_type=\"10-K\"\n",
    "ticker=\"AAPL\"\n",
    "year=None\n",
    "if year is None:\n",
    "    year = (\n",
    "        datetime.datetime.now().year - 2\n",
    "        if datetime.datetime.now().month == 1\n",
    "        else datetime.datetime.now().year - 1\n",
    "    )\n",
    "SEC_API_KEY = os.getenv(\"SEC_API_KEY\")\n",
    "queryApi = QueryApi(api_key=SEC_API_KEY)\n",
    "renderApi = RenderApi(api_key=SEC_API_KEY)\n",
    "\n",
    "print(\"ticker, report_type, year = \", ticker, report_type, year)\n",
    "query = {\n",
    "    \"query\": {\n",
    "        \"query_string\": {\n",
    "            \"query\": f'ticker:{ticker} AND filedAt:{{{year}-01-01 TO {year}-12-31}} AND formType:\"{report_type}\"'\n",
    "        }\n",
    "    },\n",
    "    \"from\": \"0\",\n",
    "    \"size\": \"10\",\n",
    "    \"sort\": [{\"filedAt\": {\"order\": \"desc\"}}],\n",
    "}\n",
    "\n",
    "filings = queryApi.get_filings(query)\n"
   ]
  },
  {
   "cell_type": "code",
   "execution_count": 20,
   "metadata": {},
   "outputs": [],
   "source": [
    "sec_url = filings[\"filings\"][0][\"linkToFilingDetails\"]\n",
    "filing = renderApi.get_filing(sec_url)"
   ]
  },
  {
   "cell_type": "code",
   "execution_count": 29,
   "metadata": {},
   "outputs": [],
   "source": [
    "with open('test_filing.html', 'w') as f:\n",
    "    f.write(filing)"
   ]
  },
  {
   "cell_type": "code",
   "execution_count": 30,
   "metadata": {},
   "outputs": [
    {
     "name": "stdout",
     "output_type": "stream",
     "text": [
      "creating index\n"
     ]
    },
    {
     "name": "stderr",
     "output_type": "stream",
     "text": [
      "[nltk_data] Downloading package punkt to /Users/rouzbeh/nltk_data...\n",
      "[nltk_data]   Package punkt is already up-to-date!\n",
      "[nltk_data] Downloading package averaged_perceptron_tagger to\n",
      "[nltk_data]     /Users/rouzbeh/nltk_data...\n",
      "[nltk_data]   Package averaged_perceptron_tagger is already up-to-\n",
      "[nltk_data]       date!\n"
     ]
    },
    {
     "name": "stdout",
     "output_type": "stream",
     "text": [
      "\n",
      "This report is about Apple Inc.\n",
      "\n",
      "Form 10-K\n"
     ]
    }
   ],
   "source": [
    "service_context = ServiceContext.from_defaults(chunk_size_limit=512)\n",
    "\n",
    "if not Path(\"./storage\").is_dir():\n",
    "    print(\"creating index\")\n",
    "    # UnstructuredReader = download_loader(\"UnstructuredReader\", refresh_cache=True)\n",
    "    # loader = UnstructuredReader()\n",
    "    document = StringIterableReader().load_data(texts=[filing])\n",
    "    index = GPTVectorStoreIndex.from_documents(\n",
    "        document, service_context=service_context\n",
    "    )\n",
    "    # index = GPTTreeIndex.from_documents(document, service_context=service_context)\n",
    "    index.storage_context.persist()\n",
    "else:\n",
    "    print(\"loading index\")\n",
    "    storage_context = StorageContext.from_defaults(persist_dir=\"./storage\")\n",
    "    # load index\n",
    "    index = load_index_from_storage(storage_context)\n",
    "\n",
    "query_engine = index.as_query_engine()\n",
    "query = \"Which company this report is about?\"\n",
    "results = query_engine.query(query)\n",
    "print(results)\n",
    "query = \"What is the document type?\"\n",
    "results = query_engine.query(query)\n",
    "print(results)\n"
   ]
  },
  {
   "cell_type": "code",
   "execution_count": 31,
   "metadata": {},
   "outputs": [
    {
     "name": "stdout",
     "output_type": "stream",
     "text": [
      "\n",
      "The main product the Company makes most money out of is the App Store, where developers keep all of the revenue they generate and the Company only retains a commission from sales of applications and sales of digital services or goods within an application.\n"
     ]
    }
   ],
   "source": [
    "query = \"What is the main product they make most money out of?\"\n",
    "results = query_engine.query(query)\n",
    "print(results)\n"
   ]
  },
  {
   "cell_type": "code",
   "execution_count": 32,
   "metadata": {},
   "outputs": [
    {
     "name": "stdout",
     "output_type": "stream",
     "text": [
      "\n",
      "The product the Company makes the least money out of is likely the App Store, as developers keep all of the revenue they generate on the App Store and the Company only retains a commission from sales of applications and sales of digital services or goods within an application.\n"
     ]
    }
   ],
   "source": [
    "query = \"What's the product they make least money out of?\"\n",
    "results = query_engine.query(query)\n",
    "print(results)\n"
   ]
  }
 ],
 "metadata": {
  "kernelspec": {
   "display_name": "py38",
   "language": "python",
   "name": "python3"
  },
  "language_info": {
   "codemirror_mode": {
    "name": "ipython",
    "version": 3
   },
   "file_extension": ".py",
   "mimetype": "text/x-python",
   "name": "python",
   "nbconvert_exporter": "python",
   "pygments_lexer": "ipython3",
   "version": "3.8.16"
  },
  "orig_nbformat": 4
 },
 "nbformat": 4,
 "nbformat_minor": 2
}
