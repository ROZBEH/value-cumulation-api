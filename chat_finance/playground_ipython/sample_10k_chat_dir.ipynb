{
 "cells": [
  {
   "cell_type": "code",
   "execution_count": 1,
   "metadata": {},
   "outputs": [
    {
     "name": "stderr",
     "output_type": "stream",
     "text": [
      "/Users/rouzbeh/miniconda/envs/py38/lib/python3.8/site-packages/tqdm/auto.py:21: TqdmWarning: IProgress not found. Please update jupyter and ipywidgets. See https://ipywidgets.readthedocs.io/en/stable/user_install.html\n",
      "  from .autonotebook import tqdm as notebook_tqdm\n"
     ]
    }
   ],
   "source": [
    "import re\n",
    "import os\n",
    "import glob\n",
    "import pandas as pd\n",
    "import datetime\n",
    "from sec_api import QueryApi, RenderApi\n",
    "\n",
    "from llama_index import (\n",
    "    download_loader,\n",
    "    VectorStoreIndex,\n",
    "    ServiceContext,\n",
    "    StorageContext,\n",
    "    load_index_from_storage,\n",
    "    ListIndex,\n",
    "    LLMPredictor,\n",
    "    load_graph_from_storage,\n",
    ")\n",
    "from langchain.chains.conversation.memory import ConversationBufferMemory\n",
    "from llama_index.query_engine.transform_query_engine import TransformQueryEngine\n",
    "from llama_index.indices.query.query_transform.base import DecomposeQueryTransform\n",
    "from llama_index.langchain_helpers.agents import (\n",
    "    LlamaToolkit,\n",
    "    create_llama_chat_agent,\n",
    "    IndexToolConfig,\n",
    ")\n",
    "from langchain import OpenAI\n",
    "from llama_index.indices.composability import ComposableGraph\n",
    "from pathlib import Path\n",
    "\n",
    "from llama_index import (\n",
    "    download_loader,\n",
    "    ServiceContext,\n",
    "    GPTVectorStoreIndex,\n",
    "    SimpleDirectoryReader,\n",
    "    StorageContext,\n",
    "    load_index_from_storage,\n",
    "    LLMPredictor,\n",
    ")\n",
    "from langchain.llms.openai import OpenAIChat\n",
    "\n",
    "from langchain.chat_models import ChatOpenAI\n",
    "\n",
    "from pathlib import Path\n",
    "from dotenv import load_dotenv\n",
    "import nest_asyncio\n",
    "from llama_index.tools import QueryEngineTool, ToolMetadata\n",
    "from llama_index.query_engine import SubQuestionQueryEngine\n",
    "nest_asyncio.apply()"
   ]
  },
  {
   "cell_type": "code",
   "execution_count": 2,
   "id": "60e51c32",
   "metadata": {},
   "outputs": [],
   "source": [
    "sec_path_apple='/Users/rouzbeh/Downloads/apple_10k_2022.pdf'\n",
    "sec_path_intel='/Users/rouzbeh/Downloads/intel_10k_2022.pdf'"
   ]
  },
  {
   "cell_type": "code",
   "execution_count": 3,
   "id": "59963324",
   "metadata": {},
   "outputs": [
    {
     "name": "stderr",
     "output_type": "stream",
     "text": [
      "/Users/rouzbeh/miniconda/envs/py38/lib/python3.8/site-packages/langchain/llms/openai.py:169: UserWarning: You are trying to use a chat model. This way of initializing it is no longer supported. Instead, please use: `from langchain.chat_models import ChatOpenAI`\n",
      "  warnings.warn(\n",
      "/Users/rouzbeh/miniconda/envs/py38/lib/python3.8/site-packages/langchain/llms/openai.py:696: UserWarning: You are trying to use a chat model. This way of initializing it is no longer supported. Instead, please use: `from langchain.chat_models import ChatOpenAI`\n",
      "  warnings.warn(\n"
     ]
    }
   ],
   "source": [
    "# cofigure LLM services\n",
    "llm_predictor=LLMPredictor(llm=OpenAI(temperature=0,model_name=\"gpt-3.5-turbo\", max_tokens=-1))\n",
    "service_context=ServiceContext.from_defaults(llm_predictor=llm_predictor)"
   ]
  },
  {
   "cell_type": "code",
   "execution_count": 4,
   "id": "6213ceeb",
   "metadata": {},
   "outputs": [
    {
     "name": "stdout",
     "output_type": "stream",
     "text": [
      "loaded apple 10k with 80 documents\n",
      "loaded intel 10k with 134 documents\n"
     ]
    }
   ],
   "source": [
    "# document loader\n",
    "apple_docs = SimpleDirectoryReader(input_files=[sec_path_apple]).load_data()\n",
    "intel_docs = SimpleDirectoryReader(input_files=[sec_path_intel]).load_data()\n",
    "print(f\"loaded apple 10k with {len(apple_docs)} documents\")\n",
    "print(f\"loaded intel 10k with {len(intel_docs)} documents\")"
   ]
  },
  {
   "cell_type": "code",
   "execution_count": 5,
   "id": "fcd5a0fe",
   "metadata": {},
   "outputs": [
    {
     "name": "stdout",
     "output_type": "stream",
     "text": [
      "finished building for apple. Length of the document is 120\n",
      "finished building for intel. Length of the document is 184\n"
     ]
    }
   ],
   "source": [
    "apple_index = GPTVectorStoreIndex.from_documents(apple_docs)\n",
    "print(f\"finished building for apple. Length of the document is {len(apple_index.docstore.docs)}\")\n",
    "intel_index = GPTVectorStoreIndex.from_documents(intel_docs)\n",
    "print(f\"finished building for intel. Length of the document is {len(intel_index.docstore.docs)}\")\n"
   ]
  },
  {
   "attachments": {},
   "cell_type": "markdown",
   "id": "830daddb",
   "metadata": {},
   "source": [
    "- Fix the html index creation process. It's too long and that is because of the length of the document is too long. I have to figure out a way to make the document shorter and get rid of the non-sense html tags."
   ]
  },
  {
   "cell_type": "code",
   "execution_count": 6,
   "id": "b319b63a",
   "metadata": {},
   "outputs": [],
   "source": [
    "apple_engine = apple_index.as_query_engine(similarity_top_k=3)\n",
    "intel_engine = intel_index.as_query_engine(similarity_top_k=3)"
   ]
  },
  {
   "cell_type": "code",
   "execution_count": 7,
   "id": "29695e64",
   "metadata": {},
   "outputs": [],
   "source": [
    "\n",
    "\n",
    "query_engine_tools = [\n",
    "    QueryEngineTool(\n",
    "        query_engine=apple_engine,\n",
    "        metadata=ToolMetadata(name=\"apple_10k\", description=\"provides information about apple's financials in 2022 fiscal year\"),\n",
    "    ),\n",
    "    QueryEngineTool(\n",
    "        query_engine=intel_engine,\n",
    "        metadata=ToolMetadata(name=\"intel_10k\", description=\"provides information about intel's financials in 2022 fiscal year\"),\n",
    "    )\n",
    "]\n",
    "query_engine = SubQuestionQueryEngine.from_defaults(query_engine_tools=query_engine_tools)\n"
   ]
  },
  {
   "cell_type": "code",
   "execution_count": 18,
   "id": "9aa33a75",
   "metadata": {},
   "outputs": [
    {
     "name": "stdout",
     "output_type": "stream",
     "text": [
      "Generated 1 sub questions.\n",
      "\u001b[36;1m\u001b[1;3m[apple_10k] Q: What is the revenue of Apple\n",
      "\u001b[0m\u001b[36;1m\u001b[1;3m[apple_10k] A: in 2020?\n",
      "\n",
      "The revenue of Apple in 2020 is $274,515 million.\n",
      "\u001b[0m\n",
      "It is not possible to answer the question without prior knowledge.\n"
     ]
    }
   ],
   "source": [
    "\n",
    "response = query_engine.query(\"revenue of apple in 2021\")\n",
    "print(response)"
   ]
  },
  {
   "cell_type": "code",
   "execution_count": 13,
   "id": "c1839052",
   "metadata": {},
   "outputs": [
    {
     "name": "stdout",
     "output_type": "stream",
     "text": [
      "Generated 2 sub questions.\n",
      "\u001b[36;1m\u001b[1;3m[apple_10k] Q: What are Apple's financials in 2022 fiscal year\n",
      "\u001b[0m\u001b[36;1m\u001b[1;3m[apple_10k] A: \n",
      "Apple's financials in the 2022 fiscal year include total net sales of $394.3 billion, iPhone net sales of $205.5 billion, Mac net sales of $40.2 billion, iPad net sales of $29.3 billion, Wearables, Home and Accessories net sales of $41.2 billion, and Services net sales of $78.1 billion. The Company also repurchased $90.2 billion of its common stock and paid dividends and dividend equivalents of $14.8 billion.\n",
      "\u001b[0m\u001b[33;1m\u001b[1;3m[intel_10k] Q: What are Intel's financials in 2022 fiscal year\n",
      "\u001b[0m\u001b[33;1m\u001b[1;3m[intel_10k] A: \n",
      "In 2022, Intel's financials were as follows:\n",
      "Net Revenue: $63.1 billion\n",
      "Gross Margin (GAAP): 42.6%\n",
      "Gross Margin (Non-GAAP): 47.3%\n",
      "Diluted Earnings Per Share (GAAP): $1.94\n",
      "Diluted Earnings Per Share (Non-GAAP): $1.84\n",
      "Operating Cash Flow: $15.4 billion\n",
      "Adjusted Free Cash Flow: $(4.1) billion\n",
      "\u001b[0m\n",
      "Apple had significantly higher financials in the 2022 fiscal year than Intel. Apple reported total net sales of $394.3 billion, while Intel reported net revenue of $63.1 billion. Apple also reported iPhone net sales of $205.5 billion, Mac net sales of $40.2 billion, iPad net sales of $29.3 billion, Wearables, Home and Accessories net sales of $41.2 billion, and Services net sales of $78.1 billion. In comparison, Intel reported gross margin (GAAP) of 42.6%, gross margin (non-GAAP) of 47.3%, diluted earnings per share (GAAP) of $1.94, diluted earnings per share (non-GAAP) of $1.84, operating cash flow of $15.4 billion, and adjusted free cash flow of $(4.1) billion.\n"
     ]
    }
   ],
   "source": [
    "response = query_engine.query(\"Compare intel and apple\")\n",
    "print(response)\n"
   ]
  }
 ],
 "metadata": {
  "kernelspec": {
   "display_name": "py38",
   "language": "python",
   "name": "python3"
  },
  "language_info": {
   "codemirror_mode": {
    "name": "ipython",
    "version": 3
   },
   "file_extension": ".py",
   "mimetype": "text/x-python",
   "name": "python",
   "nbconvert_exporter": "python",
   "pygments_lexer": "ipython3",
   "version": "3.8.16"
  }
 },
 "nbformat": 4,
 "nbformat_minor": 5
}
