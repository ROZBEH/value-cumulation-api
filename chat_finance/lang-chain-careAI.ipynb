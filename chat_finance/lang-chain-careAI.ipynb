{
 "cells": [
  {
   "cell_type": "code",
   "execution_count": 3,
   "metadata": {},
   "outputs": [],
   "source": [
    "from langchain.chat_models import ChatOpenAI\n",
    "from langchain.document_loaders import PyPDFLoader, Docx2txtLoader\n",
    "from langchain.text_splitter import RecursiveCharacterTextSplitter, CharacterTextSplitter \n",
    "from langchain.embeddings import OpenAIEmbeddings\n",
    "from langchain.vectorstores import Chroma\n",
    "from langchain.chains import ConversationalRetrievalChain\n"
   ]
  },
  {
   "cell_type": "code",
   "execution_count": 4,
   "metadata": {},
   "outputs": [
    {
     "name": "stderr",
     "output_type": "stream",
     "text": [
      "Created a chunk of size 1578, which is longer than the specified 1000\n",
      "Created a chunk of size 1699, which is longer than the specified 1000\n",
      "Created a chunk of size 1240, which is longer than the specified 1000\n",
      "Created a chunk of size 1214, which is longer than the specified 1000\n",
      "Created a chunk of size 1501, which is longer than the specified 1000\n",
      "Created a chunk of size 1238, which is longer than the specified 1000\n",
      "Created a chunk of size 1147, which is longer than the specified 1000\n",
      "Created a chunk of size 1942, which is longer than the specified 1000\n",
      "Created a chunk of size 1269, which is longer than the specified 1000\n",
      "Created a chunk of size 1082, which is longer than the specified 1000\n",
      "Created a chunk of size 1460, which is longer than the specified 1000\n"
     ]
    },
    {
     "data": {
      "text/plain": [
       "\"This document is a collection of medical records for a male patient, aged 42-44, who has a history of cystic fibrosis and has undergone a lung transplant. The patient has also been treated for a bee sting that resulted in cellulitis. The patient has been seen by several physicians and healthcare professionals, including those specializing in pulmonary disease and family practice. The patient's post-transplant follow-ups have been generally positive, with occasional nausea reported but no other significant issues. The patient has also received immunizations without any initial adverse effects.\""
      ]
     },
     "execution_count": 4,
     "metadata": {},
     "output_type": "execute_result"
    }
   ],
   "source": [
    "loader = Docx2txtLoader(\"/Users/rouzbeh/Downloads/6.19.2023 SamplePatientNotes_Compiled.docx\")\n",
    "documents = loader.load()\n",
    "# split the documents into chunks\n",
    "text_splitter = CharacterTextSplitter(chunk_size=1000, chunk_overlap=10)\n",
    "texts = text_splitter.split_documents(documents)\n",
    "# select which embeddings we want to use\n",
    "embeddings = OpenAIEmbeddings()\n",
    "# create the vectorestore to use as the index\n",
    "db = Chroma.from_documents(texts, embeddings)\n",
    "# expose this index in a retriever interface\n",
    "retriever = db.as_retriever(search_type=\"similarity\", search_kwargs={\"k\":4})\n",
    "# create a chain to answer questions \n",
    "qa = ConversationalRetrievalChain.from_llm(\n",
    "    llm=ChatOpenAI(model_name=\"gpt-4\", temperature=0),\n",
    "    chain_type=\"stuff\",\n",
    "    retriever=retriever,\n",
    "    return_source_documents=True,\n",
    "    )\n",
    "chat_history = []\n",
    "query = \"Can you give a short summary of this document?\"\n",
    "result = qa({\"question\": query, \"chat_history\": chat_history})\n",
    "result[\"answer\"]\n"
   ]
  },
  {
   "cell_type": "code",
   "execution_count": 5,
   "metadata": {},
   "outputs": [
    {
     "data": {
      "text/plain": [
       "'Yes, the patient has allergies to Vitamin K, Intravenous Vitamin K, and Bee Venom. The reactions to these allergens are Anaphylaxis for Vitamin K, and Fever and Swelling for Bee Venom. The patient also has an allergy to NSAIDs due to a lung transplant.'"
      ]
     },
     "execution_count": 5,
     "metadata": {},
     "output_type": "execute_result"
    }
   ],
   "source": [
    "chat_history = [(query, result[\"answer\"])]\n",
    "query = \"Is there anything the patient is allergic to?\"\n",
    "result = qa({\"question\": query, \"chat_history\": chat_history})\n",
    "result['answer']"
   ]
  },
  {
   "cell_type": "code",
   "execution_count": 6,
   "metadata": {},
   "outputs": [
    {
     "data": {
      "text/plain": [
       "'The patient is currently taking the following medications:\\n\\n1. Aspirin 81 MG Oral Tab - 81 mg daily\\n2. Cetirizine HCl (ZYRTEC OR) - 10 mg daily\\n3. Cholecalciferol 1000 UNITS Oral Tab - 1,000 Units daily\\n4. Cyanocobalamin (VITAMIN B 12 OR)\\n5. DilTIAZem HCl ER Beads 360 MG Oral CAPSULE SR 24 HR - 1 capsule daily\\n6. EPINEPHrine 0.3 MG/0.3ML Injection Solution Auto-injector - 0.3 mL (0.3 mg) intramuscularly one time as needed for anaphylaxis\\n7. FREESTYLE LANCETS Misc - Use 1 each 6 times a day\\n8. Glucose Blood (FREESTYLE LITE TEST) In Vitro Strip - 1 strip by In Vitro route 6 times a day\\n9. AMLODIPINE 5 MG Oral Tab - 1 tablet daily\\n\\nAdditionally, the patient is also taking the following medications as reviewed with the patient:\\n\\n1. Acetaminophen 650mg q6 PRN\\n2. ASA 81mg qd\\n3. Calcium carbonate 1000mg bid\\n4. Cholecalciferol 3000IU qd\\n5. Docusate 250mg bid\\n6. Fluconazole 400mg qd\\n7. Gabapentin 300mg tid\\n8. Glargine 8u qhs\\n9. NPH 8u q12\\n10. Humalog 6/6/6 +SSI\\n11. Lorazepam 0.25mg bid PRN\\n12. Magnesium oxide 800mg bid\\n13. Metoprolol 6.25mg bid\\n14. MVI qd\\n15. MMF 500mg bid\\n16. Oxycodone 15mg q3 PRN\\n17. Ondansetron 4mg SL q8 PRN\\n18. Zenpep as directed\\n19. Polyethylene glycol 18g qd PRN\\n20. Pravastatin 20mg qhs\\n21. Prednisone 30mg qd\\n22. Bactrim SS 1 tab qd\\n23. FK 6mg PO q12\\n24. Valgancicloivr 900mg qd'"
      ]
     },
     "execution_count": 6,
     "metadata": {},
     "output_type": "execute_result"
    }
   ],
   "source": [
    "chat_history = [(query, result[\"answer\"])]\n",
    "query = \"Is there any pills patient currently using?\"\n",
    "result = qa({\"question\": query, \"chat_history\": chat_history})\n",
    "result['answer']"
   ]
  },
  {
   "cell_type": "code",
   "execution_count": 7,
   "metadata": {},
   "outputs": [
    {
     "name": "stderr",
     "output_type": "stream",
     "text": [
      "Retrying langchain.chat_models.openai.ChatOpenAI.completion_with_retry.<locals>._completion_with_retry in 1.0 seconds as it raised APIConnectionError: Error communicating with OpenAI: ('Connection aborted.', ConnectionResetError(54, 'Connection reset by peer')).\n"
     ]
    },
    {
     "data": {
      "text/plain": [
       "\"As an AI, I can't make medical judgments, but I can tell you that the patient is taking Aspirin, which is a blood thinning medication. According to the context provided, patients on blood thinning medications should advise their providers as specific precautions need to be taken when giving intramuscular vaccines. They should also monitor for signs and symptoms of hematoma formation at the site of the injection. It's always best for the patient to discuss their medications and any potential concerns with their healthcare provider.\""
      ]
     },
     "execution_count": 7,
     "metadata": {},
     "output_type": "execute_result"
    }
   ],
   "source": [
    "chat_history = [(query, result[\"answer\"])]\n",
    "query = \"Should the patient worry about anything in particular?\"\n",
    "result = qa({\"question\": query, \"chat_history\": chat_history})\n",
    "result['answer']"
   ]
  }
 ],
 "metadata": {
  "kernelspec": {
   "display_name": "py38",
   "language": "python",
   "name": "python3"
  },
  "language_info": {
   "codemirror_mode": {
    "name": "ipython",
    "version": 3
   },
   "file_extension": ".py",
   "mimetype": "text/x-python",
   "name": "python",
   "nbconvert_exporter": "python",
   "pygments_lexer": "ipython3",
   "version": "3.8.16"
  },
  "orig_nbformat": 4
 },
 "nbformat": 4,
 "nbformat_minor": 2
}
