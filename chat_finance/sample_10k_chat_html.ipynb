{
 "cells": [
  {
   "cell_type": "code",
   "execution_count": 2,
   "metadata": {},
   "outputs": [],
   "source": [
    "import re\n",
    "import os\n",
    "import glob\n",
    "import pandas as pd\n",
    "import datetime\n",
    "from sec_api import QueryApi, RenderApi\n",
    "\n",
    "from llama_index import (\n",
    "    download_loader,\n",
    "    VectorStoreIndex,\n",
    "    ServiceContext,\n",
    "    StorageContext,\n",
    "    load_index_from_storage,\n",
    "    ListIndex,\n",
    "    LLMPredictor,\n",
    "    load_graph_from_storage,\n",
    ")\n",
    "from langchain.chains.conversation.memory import ConversationBufferMemory\n",
    "from llama_index.query_engine.transform_query_engine import TransformQueryEngine\n",
    "from llama_index.indices.query.query_transform.base import DecomposeQueryTransform\n",
    "from llama_index.langchain_helpers.agents import (\n",
    "    LlamaToolkit,\n",
    "    create_llama_chat_agent,\n",
    "    IndexToolConfig,\n",
    ")\n",
    "from langchain import OpenAI\n",
    "from llama_index.indices.composability import ComposableGraph\n",
    "from pathlib import Path\n",
    "\n",
    "from llama_index import (\n",
    "    download_loader,\n",
    "    ServiceContext,\n",
    "    GPTVectorStoreIndex,\n",
    "    SimpleDirectoryReader,\n",
    "    StorageContext,\n",
    "    load_index_from_storage,\n",
    "    LLMPredictor,\n",
    ")\n",
    "from langchain.llms.openai import OpenAIChat\n",
    "\n",
    "from langchain.chat_models import ChatOpenAI\n",
    "\n",
    "from pathlib import Path\n",
    "from dotenv import load_dotenv"
   ]
  },
  {
   "cell_type": "code",
   "execution_count": 3,
   "id": "60e51c32",
   "metadata": {},
   "outputs": [],
   "source": [
    "sec_path_apple='/Users/rouzbeh/value-cumulation/value-cumulation-api/chat_finance/data/sec10K/tmp_AAPL.html'\n",
    "sec_path_intel='/Users/rouzbeh/value-cumulation/value-cumulation-api/chat_finance/data/sec10K/tmp_INTC.html'"
   ]
  },
  {
   "cell_type": "code",
   "execution_count": 8,
   "id": "59963324",
   "metadata": {},
   "outputs": [
    {
     "name": "stderr",
     "output_type": "stream",
     "text": [
      "/Users/rouzbeh/miniconda/envs/py38/lib/python3.8/site-packages/langchain/llms/openai.py:169: UserWarning: You are trying to use a chat model. This way of initializing it is no longer supported. Instead, please use: `from langchain.chat_models import ChatOpenAI`\n",
      "  warnings.warn(\n",
      "/Users/rouzbeh/miniconda/envs/py38/lib/python3.8/site-packages/langchain/llms/openai.py:696: UserWarning: You are trying to use a chat model. This way of initializing it is no longer supported. Instead, please use: `from langchain.chat_models import ChatOpenAI`\n",
      "  warnings.warn(\n"
     ]
    }
   ],
   "source": [
    "# cofigure LLM services\n",
    "llm_predictor=LLMPredictor(llm=OpenAI(temperature=0,model_name=\"gpt-3.5-turbo\", max_tokens=-1))\n",
    "service_context=ServiceContext.from_defaults(llm_predictor=llm_predictor)"
   ]
  },
  {
   "cell_type": "code",
   "execution_count": 9,
   "id": "6213ceeb",
   "metadata": {},
   "outputs": [
    {
     "name": "stderr",
     "output_type": "stream",
     "text": [
      "[nltk_data] Downloading package punkt to /Users/rouzbeh/nltk_data...\n",
      "[nltk_data]   Package punkt is already up-to-date!\n",
      "[nltk_data] Downloading package averaged_perceptron_tagger to\n",
      "[nltk_data]     /Users/rouzbeh/nltk_data...\n",
      "[nltk_data]   Package averaged_perceptron_tagger is already up-to-\n",
      "[nltk_data]       date!\n"
     ]
    }
   ],
   "source": [
    "# document loader\n",
    "UnstructuredReader = download_loader(\"UnstructuredReader\", refresh_cache=True)\n",
    "loader = UnstructuredReader()"
   ]
  },
  {
   "cell_type": "code",
   "execution_count": 12,
   "id": "712392ad",
   "metadata": {},
   "outputs": [
    {
     "name": "stdout",
     "output_type": "stream",
     "text": [
      "Apple length is 2748\n",
      "Intel length is 5467\n"
     ]
    }
   ],
   "source": [
    "document_apple = loader.load_data(file=sec_path_apple, split_documents=True)\n",
    "document_intel = loader.load_data(file=sec_path_intel, split_documents=True)\n",
    "print(f'Apple length is {len(document_apple)}')\n",
    "print(f'Intel length is {len(document_intel)}')"
   ]
  },
  {
   "cell_type": "code",
   "execution_count": 13,
   "id": "fcd5a0fe",
   "metadata": {},
   "outputs": [
    {
     "name": "stdout",
     "output_type": "stream",
     "text": [
      "finished building for apple. Length of the document is 2748\n",
      "finished building for intel. Length of the document is 5467\n"
     ]
    }
   ],
   "source": [
    "apple_index = GPTVectorStoreIndex.from_documents(document_apple)\n",
    "print(f\"finished building for apple. Length of the document is {len(apple_index.docstore.docs)}\")\n",
    "intel_index = GPTVectorStoreIndex.from_documents(document_intel)\n",
    "print(f\"finished building for intel. Length of the document is {len(intel_index.docstore.docs)}\")\n"
   ]
  },
  {
   "attachments": {},
   "cell_type": "markdown",
   "id": "830daddb",
   "metadata": {},
   "source": [
    "- Fix the html index creation process. It's too long and that is because of the length of the document is too long. I have to figure out a way to make the document shorter and get rid of the non-sense html tags."
   ]
  },
  {
   "cell_type": "code",
   "execution_count": 14,
   "id": "b319b63a",
   "metadata": {},
   "outputs": [],
   "source": [
    "apple_engine = apple_index.as_query_engine(similarity_top_k=3)\n",
    "intel_engine = intel_index.as_query_engine(similarity_top_k=3)"
   ]
  },
  {
   "cell_type": "code",
   "execution_count": 15,
   "id": "29695e64",
   "metadata": {},
   "outputs": [],
   "source": [
    "from llama_index.tools import QueryEngineTool, ToolMetadata\n",
    "from llama_index.query_engine import SubQuestionQueryEngine\n",
    "\n",
    "query_engine_tools = [\n",
    "    QueryEngineTool(\n",
    "        query_engine=apple_engine,\n",
    "        metadata=ToolMetadata(name=\"apple_10k\", description=\"provides information about apple's financials in 2022 fiscal year\"),\n",
    "    ),\n",
    "    QueryEngineTool(\n",
    "        query_engine=intel_engine,\n",
    "        metadata=ToolMetadata(name=\"intel_10k\", description=\"provides information about intel's financials in 2022 fiscal year\"),\n",
    "    )\n",
    "]\n",
    "query_engine = SubQuestionQueryEngine.from_defaults(query_engine_tools=query_engine_tools)\n"
   ]
  },
  {
   "cell_type": "code",
   "execution_count": 41,
   "id": "9aa33a75",
   "metadata": {},
   "outputs": [],
   "source": [
    "# Run Queries\n",
    "import nest_asyncio\n",
    "nest_asyncio.apply()\n"
   ]
  },
  {
   "cell_type": "code",
   "execution_count": 52,
   "id": "c1839052",
   "metadata": {},
   "outputs": [
    {
     "name": "stdout",
     "output_type": "stream",
     "text": [
      "7\n"
     ]
    }
   ],
   "source": [
    "dir = \"/Users/rouzbeh/value-cumulation/value-cumulation-api/chat_finance/data/sec10K\"\n",
    "documents = SimpleDirectoryReader(dir).load_data()\n",
    "print(len(documents))\n",
    "this_index = GPTVectorStoreIndex.from_documents([documents[0]])\n",
    "\n"
   ]
  }
 ],
 "metadata": {
  "kernelspec": {
   "display_name": "py38",
   "language": "python",
   "name": "python3"
  },
  "language_info": {
   "codemirror_mode": {
    "name": "ipython",
    "version": 3
   },
   "file_extension": ".py",
   "mimetype": "text/x-python",
   "name": "python",
   "nbconvert_exporter": "python",
   "pygments_lexer": "ipython3",
   "version": "3.8.16"
  }
 },
 "nbformat": 4,
 "nbformat_minor": 5
}
